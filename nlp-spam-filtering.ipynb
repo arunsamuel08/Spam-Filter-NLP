{
 "cells": [
  {
   "cell_type": "code",
   "execution_count": 1,
   "id": "39227cba",
   "metadata": {
    "_cell_guid": "b1076dfc-b9ad-4769-8c92-a6c4dae69d19",
    "_kg_hide-input": true,
    "_uuid": "8f2839f25d086af736a60e9eeb907d3b93b6e0e5",
    "execution": {
     "iopub.execute_input": "2021-07-31T17:58:28.366980Z",
     "iopub.status.busy": "2021-07-31T17:58:28.365782Z",
     "iopub.status.idle": "2021-07-31T17:58:28.386797Z",
     "shell.execute_reply": "2021-07-31T17:58:28.387670Z",
     "shell.execute_reply.started": "2021-07-31T17:37:30.565270Z"
    },
    "jupyter": {
     "source_hidden": true
    },
    "papermill": {
     "duration": 0.055738,
     "end_time": "2021-07-31T17:58:28.388091",
     "exception": false,
     "start_time": "2021-07-31T17:58:28.332353",
     "status": "completed"
    },
    "tags": []
   },
   "outputs": [
    {
     "name": "stdout",
     "output_type": "stream",
     "text": [
      "/kaggle/input/sms-spam-collection-dataset/spam.csv\n"
     ]
    }
   ],
   "source": [
    "# This Python 3 environment comes with many helpful analytics libraries installed\n",
    "# It is defined by the kaggle/python Docker image: https://github.com/kaggle/docker-python\n",
    "# For example, here's several helpful packages to load\n",
    "\n",
    "import numpy as np # linear algebra\n",
    "import pandas as pd # data processing, CSV file I/O (e.g. pd.read_csv)\n",
    "\n",
    "# Input data files are available in the read-only \"../input/\" directory\n",
    "# For example, running this (by clicking run or pressing Shift+Enter) will list all files under the input directory\n",
    "\n",
    "import os\n",
    "for dirname, _, filenames in os.walk('/kaggle/input'):\n",
    "    for filename in filenames:\n",
    "        print(os.path.join(dirname, filename))\n",
    "\n",
    "# You can write up to 20GB to the current directory (/kaggle/working/) that gets preserved as output when you create a version using \"Save & Run All\" \n",
    "# You can also write temporary files to /kaggle/temp/, but they won't be saved outside of the current session"
   ]
  },
  {
   "cell_type": "markdown",
   "id": "4882b66a",
   "metadata": {
    "papermill": {
     "duration": 0.028901,
     "end_time": "2021-07-31T17:58:28.448488",
     "exception": false,
     "start_time": "2021-07-31T17:58:28.419587",
     "status": "completed"
    },
    "tags": []
   },
   "source": [
    "<h1 style=\"font-family: 'Poppins', sans-serif; font-size: 32px; text-align: center; color: #31393C; background-color: #FDCA40; padding: 20px; border-radius: 10px\">Spam Messages Filtering using NLP<h1>"
   ]
  },
  {
   "cell_type": "markdown",
   "id": "b8bee9ae",
   "metadata": {
    "papermill": {
     "duration": 0.028114,
     "end_time": "2021-07-31T17:58:28.505324",
     "exception": false,
     "start_time": "2021-07-31T17:58:28.477210",
     "status": "completed"
    },
    "tags": []
   },
   "source": [
    "<p style=\"font-family: 'Poppins', sans-serif; font-size: 16px; text-align: left;\">So I recently started Natural Language Processing and I thought I would just keep a record of what I am learning and understanding. This notebook can also be helpful to anyone who is just starting NLP.<p>"
   ]
  },
  {
   "cell_type": "markdown",
   "id": "339b7c02",
   "metadata": {
    "papermill": {
     "duration": 0.0281,
     "end_time": "2021-07-31T17:58:28.562105",
     "exception": false,
     "start_time": "2021-07-31T17:58:28.534005",
     "status": "completed"
    },
    "tags": []
   },
   "source": [
    "<h1 style=\"font-family: 'Poppins', sans-serif; font-size: 22px; text-align: left; color: #2176FF;\">1. Natural Language Processing</h1>\n",
    "\n",
    "<p style=\"font-family: 'Poppins', sans-serif; font-size: 16px; text-align: left; color: #000;\">Natural language processing (NLP) is a collective term referring to automatic computational processing of human languages. Basically, we are converting human language such that computer understands it, analyzes it and gives us back the result we need.<br><br> For eg. Chatbots are the best example of this. Chatbots are software applications that use natural language processing to understand what a human wants, and guides them to their desired outcome with as little work for the end user as possible.<br><br>Other examples are Speech Recognition, Filtering Spams, etc.</p>"
   ]
  },
  {
   "cell_type": "markdown",
   "id": "c5ebfef2",
   "metadata": {
    "papermill": {
     "duration": 0.02802,
     "end_time": "2021-07-31T17:58:28.618759",
     "exception": false,
     "start_time": "2021-07-31T17:58:28.590739",
     "status": "completed"
    },
    "tags": []
   },
   "source": [
    "<h1 style=\"font-family: 'Poppins', sans-serif; font-size: 22px; text-align: left; color: #2176FF;\">3. Basic Analysis of the data</h1>"
   ]
  },
  {
   "cell_type": "markdown",
   "id": "f841f3f1",
   "metadata": {
    "papermill": {
     "duration": 0.028741,
     "end_time": "2021-07-31T17:58:28.677161",
     "exception": false,
     "start_time": "2021-07-31T17:58:28.648420",
     "status": "completed"
    },
    "tags": []
   },
   "source": [
    "<p style=\"font-family: 'Poppins', sans-serif; font-size: 16px; text-align: left; color: #000;\">I will be working on this sms spam collection dataset to build a model to predict spam and ham messages.</p><br>"
   ]
  },
  {
   "cell_type": "code",
   "execution_count": 2,
   "id": "057d3e05",
   "metadata": {
    "execution": {
     "iopub.execute_input": "2021-07-31T17:58:28.738009Z",
     "iopub.status.busy": "2021-07-31T17:58:28.737325Z",
     "iopub.status.idle": "2021-07-31T17:58:30.606692Z",
     "shell.execute_reply": "2021-07-31T17:58:30.606155Z",
     "shell.execute_reply.started": "2021-07-31T17:37:30.578606Z"
    },
    "papermill": {
     "duration": 1.901079,
     "end_time": "2021-07-31T17:58:30.606873",
     "exception": false,
     "start_time": "2021-07-31T17:58:28.705794",
     "status": "completed"
    },
    "tags": []
   },
   "outputs": [],
   "source": [
    "# importing important libraries\n",
    "import numpy as np\n",
    "import pandas as pd\n",
    "import nltk\n",
    "import matplotlib.pyplot as plt\n",
    "import seaborn as sns\n",
    "%matplotlib inline"
   ]
  },
  {
   "cell_type": "code",
   "execution_count": 3,
   "id": "8b38dc90",
   "metadata": {
    "execution": {
     "iopub.execute_input": "2021-07-31T17:58:30.670352Z",
     "iopub.status.busy": "2021-07-31T17:58:30.669643Z",
     "iopub.status.idle": "2021-07-31T17:58:30.817518Z",
     "shell.execute_reply": "2021-07-31T17:58:30.816964Z",
     "shell.execute_reply.started": "2021-07-31T17:37:30.593508Z"
    },
    "papermill": {
     "duration": 0.182151,
     "end_time": "2021-07-31T17:58:30.817670",
     "exception": false,
     "start_time": "2021-07-31T17:58:30.635519",
     "status": "completed"
    },
    "tags": []
   },
   "outputs": [],
   "source": [
    "#reading the csv file\n",
    "messages = pd.read_csv(\"/kaggle/input/sms-spam-collection-dataset/spam.csv\")"
   ]
  },
  {
   "cell_type": "code",
   "execution_count": 4,
   "id": "e541a087",
   "metadata": {
    "execution": {
     "iopub.execute_input": "2021-07-31T17:58:30.888321Z",
     "iopub.status.busy": "2021-07-31T17:58:30.887356Z",
     "iopub.status.idle": "2021-07-31T17:58:30.907453Z",
     "shell.execute_reply": "2021-07-31T17:58:30.906779Z",
     "shell.execute_reply.started": "2021-07-31T17:37:30.623247Z"
    },
    "papermill": {
     "duration": 0.059876,
     "end_time": "2021-07-31T17:58:30.907593",
     "exception": false,
     "start_time": "2021-07-31T17:58:30.847717",
     "status": "completed"
    },
    "tags": []
   },
   "outputs": [
    {
     "data": {
      "text/html": [
       "<div>\n",
       "<style scoped>\n",
       "    .dataframe tbody tr th:only-of-type {\n",
       "        vertical-align: middle;\n",
       "    }\n",
       "\n",
       "    .dataframe tbody tr th {\n",
       "        vertical-align: top;\n",
       "    }\n",
       "\n",
       "    .dataframe thead th {\n",
       "        text-align: right;\n",
       "    }\n",
       "</style>\n",
       "<table border=\"1\" class=\"dataframe\">\n",
       "  <thead>\n",
       "    <tr style=\"text-align: right;\">\n",
       "      <th></th>\n",
       "      <th>v1</th>\n",
       "      <th>v2</th>\n",
       "      <th>Unnamed: 2</th>\n",
       "      <th>Unnamed: 3</th>\n",
       "      <th>Unnamed: 4</th>\n",
       "    </tr>\n",
       "  </thead>\n",
       "  <tbody>\n",
       "    <tr>\n",
       "      <th>0</th>\n",
       "      <td>ham</td>\n",
       "      <td>Go until jurong point, crazy.. Available only ...</td>\n",
       "      <td>NaN</td>\n",
       "      <td>NaN</td>\n",
       "      <td>NaN</td>\n",
       "    </tr>\n",
       "    <tr>\n",
       "      <th>1</th>\n",
       "      <td>ham</td>\n",
       "      <td>Ok lar... Joking wif u oni...</td>\n",
       "      <td>NaN</td>\n",
       "      <td>NaN</td>\n",
       "      <td>NaN</td>\n",
       "    </tr>\n",
       "    <tr>\n",
       "      <th>2</th>\n",
       "      <td>spam</td>\n",
       "      <td>Free entry in 2 a wkly comp to win FA Cup fina...</td>\n",
       "      <td>NaN</td>\n",
       "      <td>NaN</td>\n",
       "      <td>NaN</td>\n",
       "    </tr>\n",
       "    <tr>\n",
       "      <th>3</th>\n",
       "      <td>ham</td>\n",
       "      <td>U dun say so early hor... U c already then say...</td>\n",
       "      <td>NaN</td>\n",
       "      <td>NaN</td>\n",
       "      <td>NaN</td>\n",
       "    </tr>\n",
       "    <tr>\n",
       "      <th>4</th>\n",
       "      <td>ham</td>\n",
       "      <td>Nah I don't think he goes to usf, he lives aro...</td>\n",
       "      <td>NaN</td>\n",
       "      <td>NaN</td>\n",
       "      <td>NaN</td>\n",
       "    </tr>\n",
       "  </tbody>\n",
       "</table>\n",
       "</div>"
      ],
      "text/plain": [
       "     v1                                                 v2 Unnamed: 2  \\\n",
       "0   ham  Go until jurong point, crazy.. Available only ...        NaN   \n",
       "1   ham                      Ok lar... Joking wif u oni...        NaN   \n",
       "2  spam  Free entry in 2 a wkly comp to win FA Cup fina...        NaN   \n",
       "3   ham  U dun say so early hor... U c already then say...        NaN   \n",
       "4   ham  Nah I don't think he goes to usf, he lives aro...        NaN   \n",
       "\n",
       "  Unnamed: 3 Unnamed: 4  \n",
       "0        NaN        NaN  \n",
       "1        NaN        NaN  \n",
       "2        NaN        NaN  \n",
       "3        NaN        NaN  \n",
       "4        NaN        NaN  "
      ]
     },
     "execution_count": 4,
     "metadata": {},
     "output_type": "execute_result"
    }
   ],
   "source": [
    "messages.head()"
   ]
  },
  {
   "cell_type": "code",
   "execution_count": 5,
   "id": "94c285c2",
   "metadata": {
    "execution": {
     "iopub.execute_input": "2021-07-31T17:58:30.985375Z",
     "iopub.status.busy": "2021-07-31T17:58:30.984594Z",
     "iopub.status.idle": "2021-07-31T17:58:30.988009Z",
     "shell.execute_reply": "2021-07-31T17:58:30.988492Z",
     "shell.execute_reply.started": "2021-07-31T17:37:30.638361Z"
    },
    "papermill": {
     "duration": 0.051773,
     "end_time": "2021-07-31T17:58:30.988660",
     "exception": false,
     "start_time": "2021-07-31T17:58:30.936887",
     "status": "completed"
    },
    "tags": []
   },
   "outputs": [
    {
     "name": "stdout",
     "output_type": "stream",
     "text": [
      "<class 'pandas.core.frame.DataFrame'>\n",
      "RangeIndex: 5572 entries, 0 to 5571\n",
      "Data columns (total 5 columns):\n",
      " #   Column      Non-Null Count  Dtype \n",
      "---  ------      --------------  ----- \n",
      " 0   v1          5572 non-null   object\n",
      " 1   v2          5572 non-null   object\n",
      " 2   Unnamed: 2  50 non-null     object\n",
      " 3   Unnamed: 3  12 non-null     object\n",
      " 4   Unnamed: 4  6 non-null      object\n",
      "dtypes: object(5)\n",
      "memory usage: 217.8+ KB\n"
     ]
    }
   ],
   "source": [
    "messages.info()"
   ]
  },
  {
   "cell_type": "markdown",
   "id": "0183419b",
   "metadata": {
    "papermill": {
     "duration": 0.02925,
     "end_time": "2021-07-31T17:58:31.047681",
     "exception": false,
     "start_time": "2021-07-31T17:58:31.018431",
     "status": "completed"
    },
    "tags": []
   },
   "source": [
    "<p style=\"font-family: 'Poppins', sans-serif; font-size: 16px; text-align: left; color: #000;\">The number of missing values is too much to take into consideration. I will just drop these columns with NaN values. We will only take the Text message and its type ie ham or spam into consideration for our model</p><br>"
   ]
  },
  {
   "cell_type": "code",
   "execution_count": 6,
   "id": "737f8d3c",
   "metadata": {
    "execution": {
     "iopub.execute_input": "2021-07-31T17:58:31.113334Z",
     "iopub.status.busy": "2021-07-31T17:58:31.112367Z",
     "iopub.status.idle": "2021-07-31T17:58:31.115427Z",
     "shell.execute_reply": "2021-07-31T17:58:31.114747Z",
     "shell.execute_reply.started": "2021-07-31T17:37:30.662242Z"
    },
    "papermill": {
     "duration": 0.038415,
     "end_time": "2021-07-31T17:58:31.115599",
     "exception": false,
     "start_time": "2021-07-31T17:58:31.077184",
     "status": "completed"
    },
    "tags": []
   },
   "outputs": [],
   "source": [
    "messages = messages.drop('Unnamed: 2', axis=1)"
   ]
  },
  {
   "cell_type": "code",
   "execution_count": 7,
   "id": "0fc1f5d5",
   "metadata": {
    "execution": {
     "iopub.execute_input": "2021-07-31T17:58:31.181808Z",
     "iopub.status.busy": "2021-07-31T17:58:31.180804Z",
     "iopub.status.idle": "2021-07-31T17:58:31.184252Z",
     "shell.execute_reply": "2021-07-31T17:58:31.183656Z",
     "shell.execute_reply.started": "2021-07-31T17:37:30.674967Z"
    },
    "papermill": {
     "duration": 0.038867,
     "end_time": "2021-07-31T17:58:31.184407",
     "exception": false,
     "start_time": "2021-07-31T17:58:31.145540",
     "status": "completed"
    },
    "tags": []
   },
   "outputs": [],
   "source": [
    "messages = messages.drop('Unnamed: 3', axis=1)"
   ]
  },
  {
   "cell_type": "code",
   "execution_count": 8,
   "id": "bc542c67",
   "metadata": {
    "execution": {
     "iopub.execute_input": "2021-07-31T17:58:31.251344Z",
     "iopub.status.busy": "2021-07-31T17:58:31.250344Z",
     "iopub.status.idle": "2021-07-31T17:58:31.253694Z",
     "shell.execute_reply": "2021-07-31T17:58:31.253147Z",
     "shell.execute_reply.started": "2021-07-31T17:37:30.689391Z"
    },
    "papermill": {
     "duration": 0.038412,
     "end_time": "2021-07-31T17:58:31.253826",
     "exception": false,
     "start_time": "2021-07-31T17:58:31.215414",
     "status": "completed"
    },
    "tags": []
   },
   "outputs": [],
   "source": [
    "messages = messages.drop('Unnamed: 4', axis=1)"
   ]
  },
  {
   "cell_type": "code",
   "execution_count": 9,
   "id": "66b4c198",
   "metadata": {
    "execution": {
     "iopub.execute_input": "2021-07-31T17:58:31.322389Z",
     "iopub.status.busy": "2021-07-31T17:58:31.321608Z",
     "iopub.status.idle": "2021-07-31T17:58:31.325020Z",
     "shell.execute_reply": "2021-07-31T17:58:31.324410Z",
     "shell.execute_reply.started": "2021-07-31T17:37:30.703740Z"
    },
    "papermill": {
     "duration": 0.041866,
     "end_time": "2021-07-31T17:58:31.325155",
     "exception": false,
     "start_time": "2021-07-31T17:58:31.283289",
     "status": "completed"
    },
    "tags": []
   },
   "outputs": [
    {
     "data": {
      "text/html": [
       "<div>\n",
       "<style scoped>\n",
       "    .dataframe tbody tr th:only-of-type {\n",
       "        vertical-align: middle;\n",
       "    }\n",
       "\n",
       "    .dataframe tbody tr th {\n",
       "        vertical-align: top;\n",
       "    }\n",
       "\n",
       "    .dataframe thead th {\n",
       "        text-align: right;\n",
       "    }\n",
       "</style>\n",
       "<table border=\"1\" class=\"dataframe\">\n",
       "  <thead>\n",
       "    <tr style=\"text-align: right;\">\n",
       "      <th></th>\n",
       "      <th>v1</th>\n",
       "      <th>v2</th>\n",
       "    </tr>\n",
       "  </thead>\n",
       "  <tbody>\n",
       "    <tr>\n",
       "      <th>0</th>\n",
       "      <td>ham</td>\n",
       "      <td>Go until jurong point, crazy.. Available only ...</td>\n",
       "    </tr>\n",
       "    <tr>\n",
       "      <th>1</th>\n",
       "      <td>ham</td>\n",
       "      <td>Ok lar... Joking wif u oni...</td>\n",
       "    </tr>\n",
       "    <tr>\n",
       "      <th>2</th>\n",
       "      <td>spam</td>\n",
       "      <td>Free entry in 2 a wkly comp to win FA Cup fina...</td>\n",
       "    </tr>\n",
       "    <tr>\n",
       "      <th>3</th>\n",
       "      <td>ham</td>\n",
       "      <td>U dun say so early hor... U c already then say...</td>\n",
       "    </tr>\n",
       "    <tr>\n",
       "      <th>4</th>\n",
       "      <td>ham</td>\n",
       "      <td>Nah I don't think he goes to usf, he lives aro...</td>\n",
       "    </tr>\n",
       "  </tbody>\n",
       "</table>\n",
       "</div>"
      ],
      "text/plain": [
       "     v1                                                 v2\n",
       "0   ham  Go until jurong point, crazy.. Available only ...\n",
       "1   ham                      Ok lar... Joking wif u oni...\n",
       "2  spam  Free entry in 2 a wkly comp to win FA Cup fina...\n",
       "3   ham  U dun say so early hor... U c already then say...\n",
       "4   ham  Nah I don't think he goes to usf, he lives aro..."
      ]
     },
     "execution_count": 9,
     "metadata": {},
     "output_type": "execute_result"
    }
   ],
   "source": [
    "messages.head()"
   ]
  },
  {
   "cell_type": "code",
   "execution_count": 10,
   "id": "54ab0182",
   "metadata": {
    "execution": {
     "iopub.execute_input": "2021-07-31T17:58:31.396249Z",
     "iopub.status.busy": "2021-07-31T17:58:31.395281Z",
     "iopub.status.idle": "2021-07-31T17:58:31.428647Z",
     "shell.execute_reply": "2021-07-31T17:58:31.429189Z",
     "shell.execute_reply.started": "2021-07-31T17:37:30.722862Z"
    },
    "papermill": {
     "duration": 0.073369,
     "end_time": "2021-07-31T17:58:31.429368",
     "exception": false,
     "start_time": "2021-07-31T17:58:31.355999",
     "status": "completed"
    },
    "tags": []
   },
   "outputs": [
    {
     "data": {
      "text/html": [
       "<div>\n",
       "<style scoped>\n",
       "    .dataframe tbody tr th:only-of-type {\n",
       "        vertical-align: middle;\n",
       "    }\n",
       "\n",
       "    .dataframe tbody tr th {\n",
       "        vertical-align: top;\n",
       "    }\n",
       "\n",
       "    .dataframe thead th {\n",
       "        text-align: right;\n",
       "    }\n",
       "</style>\n",
       "<table border=\"1\" class=\"dataframe\">\n",
       "  <thead>\n",
       "    <tr style=\"text-align: right;\">\n",
       "      <th></th>\n",
       "      <th>v1</th>\n",
       "      <th>v2</th>\n",
       "    </tr>\n",
       "  </thead>\n",
       "  <tbody>\n",
       "    <tr>\n",
       "      <th>count</th>\n",
       "      <td>5572</td>\n",
       "      <td>5572</td>\n",
       "    </tr>\n",
       "    <tr>\n",
       "      <th>unique</th>\n",
       "      <td>2</td>\n",
       "      <td>5169</td>\n",
       "    </tr>\n",
       "    <tr>\n",
       "      <th>top</th>\n",
       "      <td>ham</td>\n",
       "      <td>Sorry, I'll call later</td>\n",
       "    </tr>\n",
       "    <tr>\n",
       "      <th>freq</th>\n",
       "      <td>4825</td>\n",
       "      <td>30</td>\n",
       "    </tr>\n",
       "  </tbody>\n",
       "</table>\n",
       "</div>"
      ],
      "text/plain": [
       "          v1                      v2\n",
       "count   5572                    5572\n",
       "unique     2                    5169\n",
       "top      ham  Sorry, I'll call later\n",
       "freq    4825                      30"
      ]
     },
     "execution_count": 10,
     "metadata": {},
     "output_type": "execute_result"
    }
   ],
   "source": [
    "messages.describe()"
   ]
  },
  {
   "cell_type": "code",
   "execution_count": 11,
   "id": "d5960fd0",
   "metadata": {
    "execution": {
     "iopub.execute_input": "2021-07-31T17:58:31.493889Z",
     "iopub.status.busy": "2021-07-31T17:58:31.492947Z",
     "iopub.status.idle": "2021-07-31T17:58:31.529837Z",
     "shell.execute_reply": "2021-07-31T17:58:31.529298Z",
     "shell.execute_reply.started": "2021-07-31T17:37:30.753602Z"
    },
    "papermill": {
     "duration": 0.070248,
     "end_time": "2021-07-31T17:58:31.529997",
     "exception": false,
     "start_time": "2021-07-31T17:58:31.459749",
     "status": "completed"
    },
    "tags": []
   },
   "outputs": [
    {
     "data": {
      "text/html": [
       "<div>\n",
       "<style scoped>\n",
       "    .dataframe tbody tr th:only-of-type {\n",
       "        vertical-align: middle;\n",
       "    }\n",
       "\n",
       "    .dataframe tbody tr th {\n",
       "        vertical-align: top;\n",
       "    }\n",
       "\n",
       "    .dataframe thead tr th {\n",
       "        text-align: left;\n",
       "    }\n",
       "\n",
       "    .dataframe thead tr:last-of-type th {\n",
       "        text-align: right;\n",
       "    }\n",
       "</style>\n",
       "<table border=\"1\" class=\"dataframe\">\n",
       "  <thead>\n",
       "    <tr>\n",
       "      <th></th>\n",
       "      <th colspan=\"4\" halign=\"left\">v2</th>\n",
       "    </tr>\n",
       "    <tr>\n",
       "      <th></th>\n",
       "      <th>count</th>\n",
       "      <th>unique</th>\n",
       "      <th>top</th>\n",
       "      <th>freq</th>\n",
       "    </tr>\n",
       "    <tr>\n",
       "      <th>v1</th>\n",
       "      <th></th>\n",
       "      <th></th>\n",
       "      <th></th>\n",
       "      <th></th>\n",
       "    </tr>\n",
       "  </thead>\n",
       "  <tbody>\n",
       "    <tr>\n",
       "      <th>ham</th>\n",
       "      <td>4825</td>\n",
       "      <td>4516</td>\n",
       "      <td>Sorry, I'll call later</td>\n",
       "      <td>30</td>\n",
       "    </tr>\n",
       "    <tr>\n",
       "      <th>spam</th>\n",
       "      <td>747</td>\n",
       "      <td>653</td>\n",
       "      <td>Please call our customer service representativ...</td>\n",
       "      <td>4</td>\n",
       "    </tr>\n",
       "  </tbody>\n",
       "</table>\n",
       "</div>"
      ],
      "text/plain": [
       "        v2                                                               \n",
       "     count unique                                                top freq\n",
       "v1                                                                       \n",
       "ham   4825   4516                             Sorry, I'll call later   30\n",
       "spam   747    653  Please call our customer service representativ...    4"
      ]
     },
     "execution_count": 11,
     "metadata": {},
     "output_type": "execute_result"
    }
   ],
   "source": [
    "messages.groupby('v1').describe()"
   ]
  },
  {
   "cell_type": "markdown",
   "id": "64cb4323",
   "metadata": {
    "papermill": {
     "duration": 0.030656,
     "end_time": "2021-07-31T17:58:31.591755",
     "exception": false,
     "start_time": "2021-07-31T17:58:31.561099",
     "status": "completed"
    },
    "tags": []
   },
   "source": [
    "<p style=\"font-family: 'Poppins', sans-serif; font-size: 16px; text-align: left; color: #000;\">As you can see the top Ham message is \"Sorry, I'll call later\" and the top spam message is \"Please call our customer service.....\"</p>\n",
    "<p style=\"font-family: 'Poppins', sans-serif; font-size: 16px; text-align: left; color: #000;\">Now this might help in the future as we make the model to differentiate between the Ham and Spam message.\"</p>"
   ]
  },
  {
   "cell_type": "code",
   "execution_count": 12,
   "id": "2a888eea",
   "metadata": {
    "execution": {
     "iopub.execute_input": "2021-07-31T17:58:31.663053Z",
     "iopub.status.busy": "2021-07-31T17:58:31.662044Z",
     "iopub.status.idle": "2021-07-31T17:58:31.665130Z",
     "shell.execute_reply": "2021-07-31T17:58:31.664501Z",
     "shell.execute_reply.started": "2021-07-31T17:37:30.787113Z"
    },
    "papermill": {
     "duration": 0.042517,
     "end_time": "2021-07-31T17:58:31.665270",
     "exception": false,
     "start_time": "2021-07-31T17:58:31.622753",
     "status": "completed"
    },
    "tags": []
   },
   "outputs": [],
   "source": [
    "messages['length'] = messages['v2'].apply(len)"
   ]
  },
  {
   "cell_type": "code",
   "execution_count": 13,
   "id": "4b0915fe",
   "metadata": {
    "execution": {
     "iopub.execute_input": "2021-07-31T17:58:31.737042Z",
     "iopub.status.busy": "2021-07-31T17:58:31.736290Z",
     "iopub.status.idle": "2021-07-31T17:58:31.740283Z",
     "shell.execute_reply": "2021-07-31T17:58:31.739751Z",
     "shell.execute_reply.started": "2021-07-31T17:37:30.796034Z"
    },
    "papermill": {
     "duration": 0.044187,
     "end_time": "2021-07-31T17:58:31.740418",
     "exception": false,
     "start_time": "2021-07-31T17:58:31.696231",
     "status": "completed"
    },
    "tags": []
   },
   "outputs": [
    {
     "data": {
      "text/html": [
       "<div>\n",
       "<style scoped>\n",
       "    .dataframe tbody tr th:only-of-type {\n",
       "        vertical-align: middle;\n",
       "    }\n",
       "\n",
       "    .dataframe tbody tr th {\n",
       "        vertical-align: top;\n",
       "    }\n",
       "\n",
       "    .dataframe thead th {\n",
       "        text-align: right;\n",
       "    }\n",
       "</style>\n",
       "<table border=\"1\" class=\"dataframe\">\n",
       "  <thead>\n",
       "    <tr style=\"text-align: right;\">\n",
       "      <th></th>\n",
       "      <th>v1</th>\n",
       "      <th>v2</th>\n",
       "      <th>length</th>\n",
       "    </tr>\n",
       "  </thead>\n",
       "  <tbody>\n",
       "    <tr>\n",
       "      <th>0</th>\n",
       "      <td>ham</td>\n",
       "      <td>Go until jurong point, crazy.. Available only ...</td>\n",
       "      <td>111</td>\n",
       "    </tr>\n",
       "    <tr>\n",
       "      <th>1</th>\n",
       "      <td>ham</td>\n",
       "      <td>Ok lar... Joking wif u oni...</td>\n",
       "      <td>29</td>\n",
       "    </tr>\n",
       "    <tr>\n",
       "      <th>2</th>\n",
       "      <td>spam</td>\n",
       "      <td>Free entry in 2 a wkly comp to win FA Cup fina...</td>\n",
       "      <td>155</td>\n",
       "    </tr>\n",
       "    <tr>\n",
       "      <th>3</th>\n",
       "      <td>ham</td>\n",
       "      <td>U dun say so early hor... U c already then say...</td>\n",
       "      <td>49</td>\n",
       "    </tr>\n",
       "    <tr>\n",
       "      <th>4</th>\n",
       "      <td>ham</td>\n",
       "      <td>Nah I don't think he goes to usf, he lives aro...</td>\n",
       "      <td>61</td>\n",
       "    </tr>\n",
       "  </tbody>\n",
       "</table>\n",
       "</div>"
      ],
      "text/plain": [
       "     v1                                                 v2  length\n",
       "0   ham  Go until jurong point, crazy.. Available only ...     111\n",
       "1   ham                      Ok lar... Joking wif u oni...      29\n",
       "2  spam  Free entry in 2 a wkly comp to win FA Cup fina...     155\n",
       "3   ham  U dun say so early hor... U c already then say...      49\n",
       "4   ham  Nah I don't think he goes to usf, he lives aro...      61"
      ]
     },
     "execution_count": 13,
     "metadata": {},
     "output_type": "execute_result"
    }
   ],
   "source": [
    "messages.head()"
   ]
  },
  {
   "cell_type": "markdown",
   "id": "13f16e37",
   "metadata": {
    "papermill": {
     "duration": 0.031142,
     "end_time": "2021-07-31T17:58:31.802982",
     "exception": false,
     "start_time": "2021-07-31T17:58:31.771840",
     "status": "completed"
    },
    "tags": []
   },
   "source": [
    "<p style=\"font-family: 'Poppins', sans-serif; font-size: 16px; text-align: left; color: #000;\">The length of the messages can be another identifier to check whether the message is spam or ham. Spam messages might have similar lengths and it may help to filter these out.</p>"
   ]
  },
  {
   "cell_type": "code",
   "execution_count": 14,
   "id": "366c5aef",
   "metadata": {
    "execution": {
     "iopub.execute_input": "2021-07-31T17:58:31.869519Z",
     "iopub.status.busy": "2021-07-31T17:58:31.868843Z",
     "iopub.status.idle": "2021-07-31T17:58:32.321719Z",
     "shell.execute_reply": "2021-07-31T17:58:32.321112Z",
     "shell.execute_reply.started": "2021-07-31T17:37:30.814997Z"
    },
    "papermill": {
     "duration": 0.487579,
     "end_time": "2021-07-31T17:58:32.321881",
     "exception": false,
     "start_time": "2021-07-31T17:58:31.834302",
     "status": "completed"
    },
    "tags": []
   },
   "outputs": [
    {
     "data": {
      "text/plain": [
       "<AxesSubplot:xlabel='length', ylabel='Count'>"
      ]
     },
     "execution_count": 14,
     "metadata": {},
     "output_type": "execute_result"
    },
    {
     "data": {
      "image/png": "[encoded data removed]",
      "text/plain": [
       "<Figure size 432x288 with 1 Axes>"
      ]
     },
     "metadata": {
      "needs_background": "light"
     },
     "output_type": "display_data"
    }
   ],
   "source": [
    "sns.histplot(messages['length'], bins=100)"
   ]
  },
  {
   "cell_type": "code",
   "execution_count": 15,
   "id": "8be27cfe",
   "metadata": {
    "execution": {
     "iopub.execute_input": "2021-07-31T17:58:32.392215Z",
     "iopub.status.busy": "2021-07-31T17:58:32.391456Z",
     "iopub.status.idle": "2021-07-31T17:58:32.996012Z",
     "shell.execute_reply": "2021-07-31T17:58:32.995323Z",
     "shell.execute_reply.started": "2021-07-31T17:37:31.197060Z"
    },
    "papermill": {
     "duration": 0.641847,
     "end_time": "2021-07-31T17:58:32.996245",
     "exception": false,
     "start_time": "2021-07-31T17:58:32.354398",
     "status": "completed"
    },
    "tags": []
   },
   "outputs": [
    {
     "data": {
      "text/plain": [
       "array([<AxesSubplot:title={'center':'ham'}>,\n",
       "       <AxesSubplot:title={'center':'spam'}>], dtype=object)"
      ]
     },
     "execution_count": 15,
     "metadata": {},
     "output_type": "execute_result"
    },
    {
     "data": {
      "image/png": "[encoded data removed]",
      "text/plain": [
       "<Figure size 864x288 with 2 Axes>"
      ]
     },
     "metadata": {
      "needs_background": "light"
     },
     "output_type": "display_data"
    }
   ],
   "source": [
    "messages.hist(column='length', by='v1', bins=60, figsize=(12,4))"
   ]
  },
  {
   "cell_type": "markdown",
   "id": "36d2f12d",
   "metadata": {
    "papermill": {
     "duration": 0.033762,
     "end_time": "2021-07-31T17:58:33.063815",
     "exception": false,
     "start_time": "2021-07-31T17:58:33.030053",
     "status": "completed"
    },
    "tags": []
   },
   "source": [
    "<p style=\"font-family: 'Poppins', sans-serif; font-size: 16px; text-align: left; color: #000;\">This clearly proves the fact that most Ham messages are short and concise with only average length of around 30-50.</p>\n",
    "<p style=\"font-family: 'Poppins', sans-serif; font-size: 16px; text-align: left; color: #000;\">Spam messages are relatively big with average length being around 150. Thus we can use this a differentiating factor to find out if the message is spam or ham.</p>\n",
    "<p style=\"font-family: 'Poppins', sans-serif; font-size: 16px; text-align: left; color: #000;\">Let's look at some other factors that can be used to distinguish.</p>"
   ]
  },
  {
   "cell_type": "markdown",
   "id": "987bdf54",
   "metadata": {
    "papermill": {
     "duration": 0.033356,
     "end_time": "2021-07-31T17:58:33.130992",
     "exception": false,
     "start_time": "2021-07-31T17:58:33.097636",
     "status": "completed"
    },
    "tags": []
   },
   "source": [
    "<h1 style=\"font-family: 'Poppins', sans-serif; font-size: 22px; text-align: left; color: #2176FF;\">4. Text Preprocessing</h1>"
   ]
  },
  {
   "cell_type": "markdown",
   "id": "11942dc6",
   "metadata": {
    "papermill": {
     "duration": 0.033216,
     "end_time": "2021-07-31T17:58:33.197894",
     "exception": false,
     "start_time": "2021-07-31T17:58:33.164678",
     "status": "completed"
    },
    "tags": []
   },
   "source": [
    "<p style=\"font-family: 'Poppins', sans-serif; font-size: 16px; text-align: left; color: #000;\">Since all of our data is mostly String, we have to convert it into some form i.e. make list of tokens or in simple words make a list with the sentence converted to a list of all the words it includes. Classification models only take in numeric values so accordingly we have to vectorize our data later.</p>"
   ]
  },
  {
   "cell_type": "code",
   "execution_count": 16,
   "id": "40498f9d",
   "metadata": {
    "execution": {
     "iopub.execute_input": "2021-07-31T17:58:33.270326Z",
     "iopub.status.busy": "2021-07-31T17:58:33.269380Z",
     "iopub.status.idle": "2021-07-31T17:58:33.272658Z",
     "shell.execute_reply": "2021-07-31T17:58:33.272140Z",
     "shell.execute_reply.started": "2021-07-31T17:37:31.713970Z"
    },
    "papermill": {
     "duration": 0.041323,
     "end_time": "2021-07-31T17:58:33.272791",
     "exception": false,
     "start_time": "2021-07-31T17:58:33.231468",
     "status": "completed"
    },
    "tags": []
   },
   "outputs": [],
   "source": [
    "from sklearn.model_selection import train_test_split"
   ]
  },
  {
   "cell_type": "code",
   "execution_count": 17,
   "id": "21987164",
   "metadata": {
    "execution": {
     "iopub.execute_input": "2021-07-31T17:58:33.346655Z",
     "iopub.status.busy": "2021-07-31T17:58:33.344789Z",
     "iopub.status.idle": "2021-07-31T17:58:33.349495Z",
     "shell.execute_reply": "2021-07-31T17:58:33.349981Z",
     "shell.execute_reply.started": "2021-07-31T17:37:31.720580Z"
    },
    "papermill": {
     "duration": 0.04388,
     "end_time": "2021-07-31T17:58:33.350163",
     "exception": false,
     "start_time": "2021-07-31T17:58:33.306283",
     "status": "completed"
    },
    "tags": []
   },
   "outputs": [],
   "source": [
    "msg_train, msg_test, label_train, label_test = train_test_split(messages['v2'], messages['v1'], test_size=0.3)"
   ]
  },
  {
   "cell_type": "code",
   "execution_count": 18,
   "id": "d9ed6424",
   "metadata": {
    "execution": {
     "iopub.execute_input": "2021-07-31T17:58:33.422238Z",
     "iopub.status.busy": "2021-07-31T17:58:33.421583Z",
     "iopub.status.idle": "2021-07-31T17:58:33.424675Z",
     "shell.execute_reply": "2021-07-31T17:58:33.424124Z",
     "shell.execute_reply.started": "2021-07-31T17:37:31.732913Z"
    },
    "papermill": {
     "duration": 0.040386,
     "end_time": "2021-07-31T17:58:33.424808",
     "exception": false,
     "start_time": "2021-07-31T17:58:33.384422",
     "status": "completed"
    },
    "tags": []
   },
   "outputs": [],
   "source": [
    "import string\n",
    "from nltk.corpus import stopwords"
   ]
  },
  {
   "cell_type": "markdown",
   "id": "2285aa20",
   "metadata": {
    "papermill": {
     "duration": 0.03313,
     "end_time": "2021-07-31T17:58:33.491567",
     "exception": false,
     "start_time": "2021-07-31T17:58:33.458437",
     "status": "completed"
    },
    "tags": []
   },
   "source": [
    "<p style=\"font-family: 'Poppins', sans-serif; font-size: 16px; text-align: left; color: #000;\">Now let's create a function to do our processing. Things we are going to do:<ul style=\"font-family: 'Poppins', sans-serif; font-size: 16px; text-align: left; color: #000;\"><li>Remove Punctuations </li><li>Remove stop words(is, an, the, etc.)</li><li>Return list of clean words.</li></ul></p>"
   ]
  },
  {
   "cell_type": "code",
   "execution_count": 19,
   "id": "c5fe329c",
   "metadata": {
    "execution": {
     "iopub.execute_input": "2021-07-31T17:58:33.564556Z",
     "iopub.status.busy": "2021-07-31T17:58:33.563825Z",
     "iopub.status.idle": "2021-07-31T17:58:33.567740Z",
     "shell.execute_reply": "2021-07-31T17:58:33.566649Z",
     "shell.execute_reply.started": "2021-07-31T17:37:31.742782Z"
    },
    "papermill": {
     "duration": 0.042995,
     "end_time": "2021-07-31T17:58:33.567906",
     "exception": false,
     "start_time": "2021-07-31T17:58:33.524911",
     "status": "completed"
    },
    "tags": []
   },
   "outputs": [],
   "source": [
    "def text_process(mess):\n",
    "    no_punc = [char for char in mess if char not in string.punctuation]\n",
    "    no_punc = \"\".join(no_punc)\n",
    "    return [word for word in no_punc.split() if word.lower() not in stopwords.words('english')]"
   ]
  },
  {
   "cell_type": "code",
   "execution_count": 20,
   "id": "f02e8442",
   "metadata": {
    "execution": {
     "iopub.execute_input": "2021-07-31T17:58:33.645124Z",
     "iopub.status.busy": "2021-07-31T17:58:33.644402Z",
     "iopub.status.idle": "2021-07-31T17:58:33.648305Z",
     "shell.execute_reply": "2021-07-31T17:58:33.647664Z",
     "shell.execute_reply.started": "2021-07-31T17:37:31.753689Z"
    },
    "papermill": {
     "duration": 0.047117,
     "end_time": "2021-07-31T17:58:33.648458",
     "exception": false,
     "start_time": "2021-07-31T17:58:33.601341",
     "status": "completed"
    },
    "tags": []
   },
   "outputs": [
    {
     "data": {
      "text/html": [
       "<div>\n",
       "<style scoped>\n",
       "    .dataframe tbody tr th:only-of-type {\n",
       "        vertical-align: middle;\n",
       "    }\n",
       "\n",
       "    .dataframe tbody tr th {\n",
       "        vertical-align: top;\n",
       "    }\n",
       "\n",
       "    .dataframe thead th {\n",
       "        text-align: right;\n",
       "    }\n",
       "</style>\n",
       "<table border=\"1\" class=\"dataframe\">\n",
       "  <thead>\n",
       "    <tr style=\"text-align: right;\">\n",
       "      <th></th>\n",
       "      <th>v1</th>\n",
       "      <th>v2</th>\n",
       "      <th>length</th>\n",
       "    </tr>\n",
       "  </thead>\n",
       "  <tbody>\n",
       "    <tr>\n",
       "      <th>0</th>\n",
       "      <td>ham</td>\n",
       "      <td>Go until jurong point, crazy.. Available only ...</td>\n",
       "      <td>111</td>\n",
       "    </tr>\n",
       "    <tr>\n",
       "      <th>1</th>\n",
       "      <td>ham</td>\n",
       "      <td>Ok lar... Joking wif u oni...</td>\n",
       "      <td>29</td>\n",
       "    </tr>\n",
       "    <tr>\n",
       "      <th>2</th>\n",
       "      <td>spam</td>\n",
       "      <td>Free entry in 2 a wkly comp to win FA Cup fina...</td>\n",
       "      <td>155</td>\n",
       "    </tr>\n",
       "    <tr>\n",
       "      <th>3</th>\n",
       "      <td>ham</td>\n",
       "      <td>U dun say so early hor... U c already then say...</td>\n",
       "      <td>49</td>\n",
       "    </tr>\n",
       "    <tr>\n",
       "      <th>4</th>\n",
       "      <td>ham</td>\n",
       "      <td>Nah I don't think he goes to usf, he lives aro...</td>\n",
       "      <td>61</td>\n",
       "    </tr>\n",
       "  </tbody>\n",
       "</table>\n",
       "</div>"
      ],
      "text/plain": [
       "     v1                                                 v2  length\n",
       "0   ham  Go until jurong point, crazy.. Available only ...     111\n",
       "1   ham                      Ok lar... Joking wif u oni...      29\n",
       "2  spam  Free entry in 2 a wkly comp to win FA Cup fina...     155\n",
       "3   ham  U dun say so early hor... U c already then say...      49\n",
       "4   ham  Nah I don't think he goes to usf, he lives aro...      61"
      ]
     },
     "execution_count": 20,
     "metadata": {},
     "output_type": "execute_result"
    }
   ],
   "source": [
    "messages.head()"
   ]
  },
  {
   "cell_type": "code",
   "execution_count": 21,
   "id": "b0d15c0e",
   "metadata": {
    "execution": {
     "iopub.execute_input": "2021-07-31T17:58:33.723052Z",
     "iopub.status.busy": "2021-07-31T17:58:33.722367Z",
     "iopub.status.idle": "2021-07-31T17:58:33.751118Z",
     "shell.execute_reply": "2021-07-31T17:58:33.750470Z",
     "shell.execute_reply.started": "2021-07-31T17:37:31.775848Z"
    },
    "papermill": {
     "duration": 0.067456,
     "end_time": "2021-07-31T17:58:33.751261",
     "exception": false,
     "start_time": "2021-07-31T17:58:33.683805",
     "status": "completed"
    },
    "tags": []
   },
   "outputs": [
    {
     "data": {
      "text/plain": [
       "3266                        [Ok, come, n, pick, u, engin]\n",
       "3139    [sexy, sexy, cum, text, im, wet, warm, ready, ...\n",
       "2822    [u, ask, darren, go, n, pick, u, lor, oso, sia...\n",
       "977     [Dont, hesitate, know, second, time, weakness,...\n",
       "841     [Pls, send, comprehensive, mail, im, paying, m...\n",
       "Name: v2, dtype: object"
      ]
     },
     "execution_count": 21,
     "metadata": {},
     "output_type": "execute_result"
    }
   ],
   "source": [
    "#applying function\n",
    "msg_train.head(5).apply(text_process)"
   ]
  },
  {
   "cell_type": "markdown",
   "id": "b91fdb34",
   "metadata": {
    "papermill": {
     "duration": 0.033781,
     "end_time": "2021-07-31T17:58:33.819556",
     "exception": false,
     "start_time": "2021-07-31T17:58:33.785775",
     "status": "completed"
    },
    "tags": []
   },
   "source": [
    "<h1 style=\"font-family: 'Poppins', sans-serif; font-size: 22px; text-align: left; color: #2176FF;\">4. Building the Classification Models</h1>"
   ]
  },
  {
   "cell_type": "markdown",
   "id": "7e0e535a",
   "metadata": {
    "papermill": {
     "duration": 0.034074,
     "end_time": "2021-07-31T17:58:33.888520",
     "exception": false,
     "start_time": "2021-07-31T17:58:33.854446",
     "status": "completed"
    },
    "tags": []
   },
   "source": [
    "<p style=\"font-family: 'Poppins', sans-serif; font-size: 16px; text-align: left; color: #000;\">Now that we have created our list of tokens we need to convert it into vectors such that the our model understands and differentiates it properly. We are basically making a bag of words. We'll use Count Vectorizer from Sklearn library to do this.</p>"
   ]
  },
  {
   "cell_type": "code",
   "execution_count": 22,
   "id": "17186c98",
   "metadata": {
    "execution": {
     "iopub.execute_input": "2021-07-31T17:58:33.961605Z",
     "iopub.status.busy": "2021-07-31T17:58:33.960977Z",
     "iopub.status.idle": "2021-07-31T17:58:33.966882Z",
     "shell.execute_reply": "2021-07-31T17:58:33.966235Z",
     "shell.execute_reply.started": "2021-07-31T17:47:42.576923Z"
    },
    "papermill": {
     "duration": 0.044399,
     "end_time": "2021-07-31T17:58:33.967041",
     "exception": false,
     "start_time": "2021-07-31T17:58:33.922642",
     "status": "completed"
    },
    "tags": []
   },
   "outputs": [],
   "source": [
    "from sklearn.feature_extraction.text import CountVectorizer\n",
    "from sklearn.feature_extraction.text import TfidfTransformer\n",
    "from sklearn.naive_bayes import MultinomialNB"
   ]
  },
  {
   "cell_type": "code",
   "execution_count": 23,
   "id": "631f7071",
   "metadata": {
    "execution": {
     "iopub.execute_input": "2021-07-31T17:58:34.041948Z",
     "iopub.status.busy": "2021-07-31T17:58:34.041248Z",
     "iopub.status.idle": "2021-07-31T17:58:34.046380Z",
     "shell.execute_reply": "2021-07-31T17:58:34.045679Z",
     "shell.execute_reply.started": "2021-07-31T17:47:44.634078Z"
    },
    "papermill": {
     "duration": 0.044977,
     "end_time": "2021-07-31T17:58:34.046524",
     "exception": false,
     "start_time": "2021-07-31T17:58:34.001547",
     "status": "completed"
    },
    "tags": []
   },
   "outputs": [],
   "source": [
    "from sklearn.pipeline import Pipeline\n",
    "\n",
    "pipeline = Pipeline([\n",
    "    ('bow', CountVectorizer(analyzer=text_process)),  # strings to token integer counts\n",
    "    ('tfidf', TfidfTransformer()),  # integer counts to weighted TF-IDF scores\n",
    "    ('classifier', MultinomialNB()),  # train on TF-IDF vectors w/ Naive Bayes classifier\n",
    "])"
   ]
  },
  {
   "cell_type": "code",
   "execution_count": 24,
   "id": "30a514e8",
   "metadata": {
    "execution": {
     "iopub.execute_input": "2021-07-31T17:58:34.118545Z",
     "iopub.status.busy": "2021-07-31T17:58:34.117882Z",
     "iopub.status.idle": "2021-07-31T17:58:41.872457Z",
     "shell.execute_reply": "2021-07-31T17:58:41.871884Z",
     "shell.execute_reply.started": "2021-07-31T17:48:03.834552Z"
    },
    "papermill": {
     "duration": 7.79145,
     "end_time": "2021-07-31T17:58:41.872598",
     "exception": false,
     "start_time": "2021-07-31T17:58:34.081148",
     "status": "completed"
    },
    "tags": []
   },
   "outputs": [
    {
     "data": {
      "text/plain": [
       "Pipeline(steps=[('bow',\n",
       "                 CountVectorizer(analyzer=<function text_process at 0x7fa981cbc440>)),\n",
       "                ('tfidf', TfidfTransformer()),\n",
       "                ('classifier', MultinomialNB())])"
      ]
     },
     "execution_count": 24,
     "metadata": {},
     "output_type": "execute_result"
    }
   ],
   "source": [
    "pipeline.fit(msg_train,label_train)"
   ]
  },
  {
   "cell_type": "code",
   "execution_count": 25,
   "id": "b3337d11",
   "metadata": {
    "execution": {
     "iopub.execute_input": "2021-07-31T17:58:41.948947Z",
     "iopub.status.busy": "2021-07-31T17:58:41.947904Z",
     "iopub.status.idle": "2021-07-31T17:58:45.156584Z",
     "shell.execute_reply": "2021-07-31T17:58:45.155967Z",
     "shell.execute_reply.started": "2021-07-31T17:48:34.217747Z"
    },
    "papermill": {
     "duration": 3.249099,
     "end_time": "2021-07-31T17:58:45.156723",
     "exception": false,
     "start_time": "2021-07-31T17:58:41.907624",
     "status": "completed"
    },
    "tags": []
   },
   "outputs": [],
   "source": [
    "predictions = pipeline.predict(msg_test)"
   ]
  },
  {
   "cell_type": "code",
   "execution_count": 26,
   "id": "616b55c4",
   "metadata": {
    "execution": {
     "iopub.execute_input": "2021-07-31T17:58:45.235474Z",
     "iopub.status.busy": "2021-07-31T17:58:45.230642Z",
     "iopub.status.idle": "2021-07-31T17:58:45.299727Z",
     "shell.execute_reply": "2021-07-31T17:58:45.300207Z",
     "shell.execute_reply.started": "2021-07-31T17:49:08.787297Z"
    },
    "papermill": {
     "duration": 0.108424,
     "end_time": "2021-07-31T17:58:45.300386",
     "exception": false,
     "start_time": "2021-07-31T17:58:45.191962",
     "status": "completed"
    },
    "tags": []
   },
   "outputs": [
    {
     "name": "stdout",
     "output_type": "stream",
     "text": [
      "              precision    recall  f1-score   support\n",
      "\n",
      "         ham       1.00      0.95      0.98      1524\n",
      "        spam       0.67      1.00      0.80       148\n",
      "\n",
      "    accuracy                           0.96      1672\n",
      "   macro avg       0.84      0.98      0.89      1672\n",
      "weighted avg       0.97      0.96      0.96      1672\n",
      "\n"
     ]
    }
   ],
   "source": [
    "from sklearn.metrics import classification_report\n",
    "print(classification_report(predictions,label_test))"
   ]
  },
  {
   "cell_type": "markdown",
   "id": "ae6ce675",
   "metadata": {
    "papermill": {
     "duration": 0.034527,
     "end_time": "2021-07-31T17:58:45.370507",
     "exception": false,
     "start_time": "2021-07-31T17:58:45.335980",
     "status": "completed"
    },
    "tags": []
   },
   "source": [
    "<h1 style=\"font-family: 'Poppins', sans-serif; font-size: 22px; text-align: left; color: #FA8334;\">The Model performed well with an overall accuracy of 96% but the f1-score of Spam was not up to the mark. I will try doing more feature engineering on this to get a better score for Spam.</h1>"
   ]
  }
 ],
 "metadata": {
  "kernelspec": {
   "display_name": "Python 3",
   "language": "python",
   "name": "python3"
  },
  "language_info": {
   "codemirror_mode": {
    "name": "ipython",
    "version": 3
   },
   "file_extension": ".py",
   "mimetype": "text/x-python",
   "name": "python",
   "nbconvert_exporter": "python",
   "pygments_lexer": "ipython3",
   "version": "3.7.10"
  },
  "papermill": {
   "default_parameters": {},
   "duration": 26.921056,
   "end_time": "2021-07-31T17:58:46.674416",
   "environment_variables": {},
   "exception": null,
   "input_path": "__notebook__.ipynb",
   "output_path": "__notebook__.ipynb",
   "parameters": {},
   "start_time": "2021-07-31T17:58:19.753360",
   "version": "2.3.3"
  }
 },
 "nbformat": 4,
 "nbformat_minor": 5
}
